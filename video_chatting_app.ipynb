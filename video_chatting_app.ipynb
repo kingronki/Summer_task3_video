{
 "cells": [
  {
   "cell_type": "code",
   "execution_count": 1,
   "metadata": {},
   "outputs": [],
   "source": [
    "#pc2\n",
    "\n",
    "import socket\n",
    "import cv2\n",
    "import numpy as np\n",
    "import os\n",
    "import threading\n",
    "\n",
    "afn=socket.AF_INET\n",
    "pn=socket.SOCK_DGRAM\n",
    "s=socket.socket(afn,pn)\n",
    "\n",
    "ip1=\"IP for Recive\"\n",
    "port1=Recive port no.\n",
    "\n",
    "ip2=\"IP for send \"\n",
    "\n",
    "port2=Send Port\n",
    "    \n",
    "def reciever():\n",
    "    s.bind((ip1,port1))\n",
    "    while True:\n",
    "        x=s.recvfrom(65530)\n",
    "        img=np.asarray(bytearray(x[0]), dtype=\"uint8\")\n",
    "        img=img.reshape(-1,1)\n",
    "        dec1=cv2.imdecode(img,cv2.IMREAD_COLOR)\n",
    "        cv2.imshow(\"reciver\",dec1)\n",
    "        if cv2.waitKey(1)==13:\n",
    "            break\n",
    "    cv2.destroyAllWindows()\n",
    "\n",
    "def sender():\n",
    "    while True:\n",
    "        cap=cv2.VideoCapture(0)\n",
    "        ret,photo=cap.read()\n",
    "        ret,photo1 = cv2.imencode(\".jpg\",photo[:400,:400])\n",
    "        ds=photo1.tobytes()\n",
    "        s.sendto(ds, (ip2, port2))\n",
    "        if cv2.waitKey(1) == 13:\n",
    "            break\n",
    "\n",
    "    cv2.destroyAllWindows()\n",
    "    cap.release()\n",
    "    \n",
    "\n",
    "thread1=threading.Thread(target=reciever)\n",
    "thread2=threading.Thread(target=sender)\n",
    "\n",
    "thread1.start()\n",
    "thread2.start()\n",
    "\n"
   ]
  },
  {
   "cell_type": "code",
   "execution_count": null,
   "metadata": {},
   "outputs": [],
   "source": []
  }
 ],
 "metadata": {
  "kernelspec": {
   "display_name": "Python 3",
   "language": "python",
   "name": "python3"
  },
  "language_info": {
   "codemirror_mode": {
    "name": "ipython",
    "version": 3
   },
   "file_extension": ".py",
   "mimetype": "text/x-python",
   "name": "python",
   "nbconvert_exporter": "python",
   "pygments_lexer": "ipython3",
   "version": "3.8.8"
  }
 },
 "nbformat": 4,
 "nbformat_minor": 4
}
